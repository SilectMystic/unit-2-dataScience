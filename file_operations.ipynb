{
 "cells": [
  {
   "cell_type": "markdown",
   "metadata": {},
   "source": [
    "# File Operations\n",
    "In this excercise you will begin working on using the `open` function within python to manipulate files and create reports on those files.\n",
    "\n",
    "**YOU ARE TO INCLUDE COMMENTS ALONG SIDE YOUR CODE**"
   ]
  },
  {
   "cell_type": "markdown",
   "metadata": {},
   "source": [
    "1. Open the file \"states.txt\" that you downloaded, what does this file contain?\n",
    "```\n",
    "\n",
    "```"
   ]
  },
  {
   "cell_type": "markdown",
   "metadata": {},
   "source": [
    "\n",
    "*Use the code block below to open the same file, using a `for` loop print each line to the console.*"
   ]
  },
  {
   "cell_type": "code",
   "execution_count": 21,
   "metadata": {},
   "outputs": [
    {
     "name": "stdout",
     "output_type": "stream",
     "text": [
      "14 264 54 13 40\n"
     ]
    }
   ],
   "source": [
    "states = open('states.txt')\n",
    "AL = 0\n",
    "AK = 0\n",
    "AZ = 0\n",
    "AR = 0\n",
    "AS = 0\n",
    "CA = 0\n",
    "CO = 0\n",
    "CT = 0\n",
    "DE = 0\n",
    "DC = 0\n",
    "FL = 0\n",
    "GA = 0\n",
    "GU = 0\n",
    "HI = 0\n",
    "ID = 0\n",
    "IL = 0\n",
    "IN = 0\n",
    "IA = 0\n",
    "KS = 0\n",
    "KY = 0\n",
    "LA = 0\n",
    "ME = 0\n",
    "MD = 0\n",
    "MA = 0\n",
    "MI = 0\n",
    "MN = 0\n",
    "MS = 0\n",
    "MO = 0\n",
    "MT = 0\n",
    "NE = 0\n",
    "NV = 0\n",
    "NH = 0\n",
    "NJ = 0\n",
    "NM = 0\n",
    "NY = 0\n",
    "NC = 0\n",
    "ND = 0\n",
    "MP = 0\n",
    "OH = 0\n",
    "OK = 0\n",
    "OR = 0\n",
    "PA = 0\n",
    "PR = 0\n",
    "RI = 0\n",
    "SC = 0\n",
    "SD = 0\n",
    "TN = 0\n",
    "TX = 0\n",
    "TT = 0\n",
    "UT = 0\n",
    "VT = 0\n",
    "VA = 0\n",
    "VI = 0\n",
    "WA = 0\n",
    "WV = 0\n",
    "WI = 0\n",
    "WY = 0\n",
    "\n",
    "for items in states.readlines():\n",
    "    if items == 'AL\\n':\n",
    "        AL += 1\n",
    "    if items == 'AK\\n':\n",
    "        AK += 1\n",
    "    if items == 'AZ\\n':\n",
    "        AZ += 1\n",
    "    if items ==  'AR\\n':\n",
    "        AR += 1\n",
    "    if items ==  'AS\\n':\n",
    "        AS += 1\n",
    "    if items ==  'CA\\n':\n",
    "        CA += 1\n",
    "    if items ==  'CO\\n':\n",
    "        CO += 1\n",
    "    if items ==  'CT\\n':\n",
    "        CT += 1\n",
    "    if items ==  'DE\\n':\n",
    "        DE += 1\n",
    "    if items ==  'DC\\n':\n",
    "        DC += 1\n",
    "    if items ==  'FL\\n':\n",
    "        FL += 1\n",
    "    if items ==  'GA\\n':\n",
    "        GA += 1\n",
    "    if items ==  'GU\\n':\n",
    "        GU += 1\n",
    "    if items ==  'HI\\n':\n",
    "        HI += 1\n",
    "    if items ==  'ID\\n':\n",
    "        ID += 1\n",
    "    if items ==  'AR\\n':\n",
    "        AR += 1\n",
    "    if items ==  'AS\\n':\n",
    "        AS += 1\n",
    "    if items ==  'CA\\n':\n",
    "        CA += 1\n",
    "    if items ==  'CO\\n':\n",
    "        CO += 1\n",
    "    if items ==  'CT\\n':\n",
    "        CT += 1\n",
    "    if items ==  'DE\\n':\n",
    "        DE += 1\n",
    "    if items ==  'DC\\n':\n",
    "        DC += 1\n",
    "    if items ==  'FL\\n':\n",
    "        FL += 1\n",
    "    if items ==  'GA\\n':\n",
    "        GA += 1\n",
    "    if items ==  'GU\\n':\n",
    "        GU += 1\n",
    "    if items ==  'HI\\n':\n",
    "        HI += 1\n",
    "    if items ==  'ID\\n':\n",
    "        ID += 1\n",
    "    if items ==  'IL\\n':\n",
    "        IL += 1\n",
    "    if items ==  'IN\\n':\n",
    "        IN += 1\n",
    "    if items ==  'IA\\n':\n",
    "        IA += 1\n",
    "    if items ==  'KS\\n':\n",
    "        KS += 1\n",
    "    if items ==  'KY\\n':\n",
    "        KY += 1\n",
    "    if items ==  'LA\\n':\n",
    "        LA += 1\n",
    "    if items ==  'ME\\n':\n",
    "        ME += 1\n",
    "    if items ==  'MD\\n':\n",
    "        MD += 1\n",
    "    if items ==  'MA\\n':\n",
    "        MA += 1\n",
    "    if items ==  'MI\\n':\n",
    "        MI += 1\n",
    "    if items ==  'MN\\n':\n",
    "        MN += 1\n",
    "    if items ==  'MS\\n':\n",
    "        MS += 1\n",
    "    if items ==  'MO\\n':\n",
    "        MT += 1\n",
    "    if items ==  'MT\\n':\n",
    "        MT += 1\n",
    "    if items ==  'NE\\n':\n",
    "        NE += 1\n",
    "    if items ==  'NV\\n':\n",
    "        NV += 1\n",
    "    if items ==  'NH\\n':\n",
    "        NH += 1\n",
    "    if items ==  'NJ\\n':\n",
    "        NJ += 1\n",
    "    if items ==  'NM\\n':\n",
    "        NM += 1\n",
    "    if items ==  'NY\\n':\n",
    "        NY += 1\n",
    "    if items ==  'NC\\n':\n",
    "        NC += 1\n",
    "    if items ==  'ND\\n':\n",
    "        ND += 1\n",
    "    if items ==  'MP\\n':\n",
    "        MP += 1\n",
    "    if items ==  'OH\\n':\n",
    "        OH += 1\n",
    "    if items ==  'OK\\n':\n",
    "        OK += 1\n",
    "    if items ==  'OR\\n':\n",
    "        OR += 1\n",
    "    if items ==  'PA\\n':\n",
    "        PA += 1\n",
    "    if items ==  'PR\\n':\n",
    "        PR += 1\n",
    "    if items ==  'RI\\n':\n",
    "        RI += 1\n",
    "    if items ==  'SC\\n':\n",
    "        SC += 1\n",
    "print(AZ,CA,NY,NJ,OH)"
   ]
  },
  {
   "cell_type": "markdown",
   "metadata": {},
   "source": [
    "2. What type of chart would be best to represent this data? Explain why\n",
    "```\n",
    "The best chart to represent this data would be a bar graph because they are many duplicates\n",
    "```\n",
    "3. How would we need to transform the data we have, to be displayed in this chart?\n",
    "```\n",
    "We would need to transform the data into a list of the states that we can use for the bar graph\n",
    "```"
   ]
  },
  {
   "cell_type": "markdown",
   "metadata": {},
   "source": [
    "Using your knowledge of Python and Matplotlib write your code to transform and graph the data below.\n",
    "\n",
    "After your code create a new Markdown block to describe your analysis"
   ]
  },
  {
   "cell_type": "code",
   "execution_count": 23,
   "metadata": {},
   "outputs": [
    {
     "data": {
      "text/plain": [
       "<BarContainer object of 57 artists>"
      ]
     },
     "execution_count": 23,
     "metadata": {},
     "output_type": "execute_result"
    },
    {
     "data": {
      "image/png": "[encoded data removed]",
      "text/plain": [
       "<Figure size 640x480 with 1 Axes>"
      ]
     },
     "metadata": {},
     "output_type": "display_data"
    }
   ],
   "source": [
    "import matplotlib.pyplot as plt\n",
    "x = ['AL','AK','AZ','AR','AS','CA','CO','CT','DE','DC','FL','GA','GU','HI','ID','IL','IN','IA','KS','KY','LA','ME','MD','MA','MI','MN','MS','MO','MT','NE','NV','NH','NJ','NM','NY','NC','ND','MP','OH','OK','OR','PA','PR','RI','SC','SD','TN','TX','TT','UT','VT','VA','VI','WA','WV','WI','WY']\n",
    "y = [AL,AK,AZ,AR,AS,CA,CO,CT,DE,DC,FL,GA,GU,HI,ID,IL,IN,IA,KS,KY,LA,ME,MD,MA,MI,MN,MS,MO,MT,NE,NV,NH,NJ,NM,NY,NC,ND,MP,OH,OK,OR,PA,PR,RI,SC,SD,TN,TX,TT,UT,VT,VA,VI,WA,WV,WI,WY]\n",
    "\n",
    "plt.bar(x,y)\n"
   ]
  },
  {
   "cell_type": "markdown",
   "metadata": {},
   "source": [
    "My analisys would be that Alaska and Arizona dont have as many compared from the other states as Alabama and California."
   ]
  }
 ],
 "metadata": {
  "kernelspec": {
   "display_name": "Python 3",
   "language": "python",
   "name": "python3"
  },
  "language_info": {
   "codemirror_mode": {
    "name": "ipython",
    "version": 3
   },
   "file_extension": ".py",
   "mimetype": "text/x-python",
   "name": "python",
   "nbconvert_exporter": "python",
   "pygments_lexer": "ipython3",
   "version": "3.10.11"
  }
 },
 "nbformat": 4,
 "nbformat_minor": 2
}
