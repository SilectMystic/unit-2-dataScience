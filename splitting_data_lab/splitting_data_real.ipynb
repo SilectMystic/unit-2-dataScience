{
 "cells": [
  {
   "cell_type": "markdown",
   "metadata": {},
   "source": [
    "# Splitting Data\n",
    "In this lab you will begin working with data sets with multiple peices of information. Multiple pieces of information is normally stored in format called **CSV** which stands for Comma Seperate Values.\n",
    "\n",
    "For any questions, edit the appropriate markdown block and answer between the ` ``` ``` ` using complete sentences. \n",
    "\n",
    "For any code blocks you are to include comments explaining your code to recieve full credit."
   ]
  },
  {
   "cell_type": "markdown",
   "metadata": {},
   "source": [
    "1. Open the file `sales.csv` in VSCode, how is the data organized? How can you differentiate between the various pieces of information included in this data set?\n",
    "```\n",
    "The data is organized with the set format and i can differentiate between them because of the commas and also because of the extension that separates them by color making the job way easier.\n",
    "```\n",
    "\n",
    "2. Is this a effective method of storing data? Why or why not?\n",
    "```\n",
    "This is a effective method of storing data because the data is organized and its separated by commas making in it easy to see the difference and for the computer this would be one of the best method for storing datas since its searching for a specific format.\n",
    "```\n",
    "\n",
    "3. What types of information is stored in this file? How could this information be used by a business?\n",
    "```\n",
    "It has customer data with how much they have spent on the company. This could be usefull for a business because they can see how much they have earn per customer and have an analysis on how much they have selled and earned.\n",
    "```\n",
    "\n",
    "4. How would we seperate each piece of information to be used in a python program?\n",
    "```\n",
    "We can separated each piece of information by using the split() function to separate everything by its comma and putting each line in a list with everything separated in the given format.\n",
    "```"
   ]
  },
  {
   "cell_type": "markdown",
   "metadata": {},
   "source": [
    "*Use the code block below to open `sales.csv` with python. Then create a variable called `content` which is equal to a list of each line of the file*"
   ]
  },
  {
   "cell_type": "code",
   "execution_count": 1,
   "metadata": {},
   "outputs": [],
   "source": [
    "sales = open('sales.csv')\n",
    "contents = sales.readlines()\n",
    "del(contents[0])"
   ]
  },
  {
   "cell_type": "markdown",
   "metadata": {},
   "source": [
    "*Using the `split` function and a `for` loop calculate the total sales in a month*\n",
    "\n",
    "*Hint: you will need a seperate variable for each month*"
   ]
  },
  {
   "cell_type": "code",
   "execution_count": 2,
   "metadata": {},
   "outputs": [],
   "source": [
    "jan = 0\n",
    "feb = 0\n",
    "mar = 0\n",
    "\n",
    "for items in contents:\n",
    "    list = items.split(',')\n",
    "    a = list[3]\n",
    "    A = a.split('/')\n",
    "    b = A[0]\n",
    "    m = float(list[2])\n",
    "    if b == '1':\n",
    "        jan += m\n",
    "    if b == '2':\n",
    "        feb += m\n",
    "    if b == '3':\n",
    "        mar += m\n"
   ]
  },
  {
   "cell_type": "markdown",
   "metadata": {},
   "source": [
    "*Using your calculated total sales create a graph to represent this data and write a written analysis*"
   ]
  },
  {
   "cell_type": "code",
   "execution_count": 3,
   "metadata": {},
   "outputs": [
    {
     "data": {
      "text/plain": [
       "[<matplotlib.lines.Line2D at 0x242bbbbaa10>]"
      ]
     },
     "execution_count": 3,
     "metadata": {},
     "output_type": "execute_result"
    },
    {
     "data": {
      "image/png": "[encoded data removed]",
      "text/plain": [
       "<Figure size 640x480 with 1 Axes>"
      ]
     },
     "metadata": {},
     "output_type": "display_data"
    }
   ],
   "source": [
    "import matplotlib.pyplot as plt\n",
    "x = ['January','February','March']\n",
    "y = [jan,feb,mar]\n",
    "plt.ylim(0, 60000)\n",
    "plt.xlabel('Months')\n",
    "plt.ylabel('Total')\n",
    "plt.title('Total sales in 3 months')\n",
    "plt.plot(x,y)"
   ]
  },
  {
   "cell_type": "markdown",
   "metadata": {},
   "source": [
    "*Using the `split` function, seperate each row of data. Then append the customer's name to a list called `customers`*"
   ]
  },
  {
   "cell_type": "code",
   "execution_count": 4,
   "metadata": {},
   "outputs": [
    {
     "name": "stdout",
     "output_type": "stream",
     "text": [
      "['Babbie Deeson', 'Robinetta Darracott', 'Teodorico Growy', 'Gabriello Skpsey', 'Alanson Wimlett', 'Jere Adacot', 'Vitia Elsip', 'Jobye Towhey', 'Pearla Porte', 'Jacinta Knowller', 'Shawnee Klimaszewski', 'Dev McDermott', 'Feodor Bidmead', 'Etheline Gissing', 'Pearla Porte', 'Arri Whitehorne', 'Robinetta Darracott', 'Feodor Bidmead', 'Lindon Duddin', 'Jere Adacot', 'Petronia Massel', 'Rudiger Roke', 'Alanson Wimlett', 'Chandra Rennolds', 'Emanuel Griffey', 'Ninon Presdie', 'Cynthie Curcher', 'Hedwiga End', 'Carl Shakesbye', 'Althea MacGiolla', 'Feodor Bidmead', 'Bernardina Sneaker', 'Dev McDermott', 'Althea MacGiolla', 'Teodorico Growy', 'Alexander McHale', 'Babbie Deeson', 'Goldina McCrohon', 'Aimee Naisby', 'Garrot Lisimore', 'Monique covino', 'Etheline Gissing', 'Patin Liles', 'Robinetta Darracott', 'Hedwiga End', 'Jacinta Knowller', 'Ninon Presdie', 'Babbie Deeson', 'Jacinta Knowller', 'Arri Whitehorne', 'Arri Whitehorne', 'Claudio Mimmack', 'Feodor Bidmead', 'Carl Shakesbye', 'Jobye Towhey', 'Monique covino', 'Ninon Presdie', 'Blithe Phettis', 'Ninon Presdie', 'Alanson Wimlett', 'Hedwiga End', 'Samaria Dryburgh', 'Ernie Scully', 'Derril Staten', 'Derril Staten', 'Stanfield McAvin', 'Lindon Duddin', 'Derril Staten', 'Hedwiga End', 'Reggi Sapson', 'Alexander McHale', 'Rafe Romand', 'Stanfield McAvin', 'Esmaria Raincin', 'Vitia Elsip', 'Feodor Bidmead', 'Hope Rides', 'Esmaria Raincin', 'Claudio Mimmack', 'Dianna Tuckwood', 'Claudio Mimmack', 'Petronia Massel', 'Carl Shakesbye', 'Jeffrey Elston', 'Esmaria Raincin', 'Claudio Mimmack', 'Goldina McCrohon', 'Stanfield McAvin', 'Marrissa Tammadge', 'Demetris Ovid', 'Claudio Mimmack', 'Dianna Tuckwood', 'Alexander McHale', 'Robinetta Darracott', 'Reggi Sapson', 'Stanfield McAvin', 'Pearla Porte', 'Etheline Gissing', 'Goldina McCrohon', 'Brianne Mundee', 'Gabriello Skpsey', 'Vitia Elsip', 'Hope Rides', 'Monique covino', 'Arri Whitehorne', 'Brianne Mundee', 'Petronia Massel', 'Demetris Ovid', 'Chandra Rennolds', 'Ernie Scully', 'Teodorico Growy', 'Bernardina Sneaker', 'Jeffrey Elston', 'Hedwiga End', 'Rudiger Roke', 'Robinetta Darracott', 'Jere Adacot', 'Chandra Rennolds', \"Neile O'Ruane\", 'Hope Rides', 'Goldina McCrohon', 'Marrissa Tammadge', 'Cynthie Curcher', 'Alexander McHale', \"Neile O'Ruane\", 'Babbie Deeson', 'Monique covino', 'Claudio Mimmack', 'Carl Shakesbye', 'Arri Whitehorne', 'Jerad Godball', 'Cynthie Curcher', 'Reggi Sapson', 'Derril Staten', 'Ernie Scully', 'Babbie Deeson', 'Emanuel Griffey', 'Etheline Gissing', 'Jere Adacot', 'Arri Whitehorne', 'Esmaria Raincin', 'Carl Shakesbye', 'Dianna Tuckwood', 'Petronia Massel', 'Alexander McHale', 'Demetris Ovid', 'Patin Liles', 'Claudio Mimmack', \"Neile O'Ruane\", 'Robinetta Darracott', 'Ninon Presdie', 'Bernardina Sneaker', \"Neile O'Ruane\", 'Demetris Ovid', 'Jeffrey Elston', 'Samaria Dryburgh', 'Jacinta Knowller', 'Marrissa Tammadge', 'Lindon Duddin', 'Esmaria Raincin', 'Dev McDermott', 'Reggi Sapson', \"Neile O'Ruane\", 'Ernie Scully', 'Monique covino', 'Jerad Godball', 'Garrot Lisimore', 'Marrissa Tammadge', 'Jerad Godball', 'Alexander McHale', 'Shawnee Klimaszewski', 'Blithe Phettis', 'Etheline Gissing', 'Stanfield McAvin', 'Esmaria Raincin', 'Stanfield McAvin', 'Etheline Gissing', 'Derril Staten', 'Althea MacGiolla', 'Brianne Mundee', 'Rudiger Roke', 'Esmaria Raincin', 'Brianne Mundee', 'Etheline Gissing', 'Claudio Mimmack', 'Jerad Godball', 'Bernardina Sneaker', 'Demetris Ovid', 'Bernardina Sneaker', 'Hope Rides', 'Jeffrey Elston', 'Samaria Dryburgh', 'Claudio Mimmack', 'Gabriello Skpsey', 'Blithe Phettis', 'Feodor Bidmead', 'Hedwiga End', 'Cynthie Curcher', 'Althea MacGiolla', 'Jere Adacot', 'Rudiger Roke', 'Jerad Godball', 'Blithe Phettis', 'Reggi Sapson', 'Blithe Phettis', 'Rafe Romand', 'Blithe Phettis', 'Samaria Dryburgh', 'Demetris Ovid', 'Lindon Duddin', 'Dev McDermott', 'Etheline Gissing', 'Feodor Bidmead', 'Alexander McHale', 'Emanuel Griffey', 'Stanfield McAvin', 'Gabriello Skpsey', 'Petronia Massel', 'Demetris Ovid', 'Babbie Deeson', 'Robinetta Darracott', 'Hope Rides', 'Carl Shakesbye', 'Jobye Towhey', 'Garrot Lisimore', 'Vitia Elsip', 'Dianna Tuckwood', 'Chandra Rennolds', 'Lindon Duddin', 'Claudio Mimmack', 'Teodorico Growy', 'Garrot Lisimore', 'Monique covino', 'Ninon Presdie', 'Demetris Ovid', 'Jerad Godball', 'Gabriello Skpsey', 'Jeffrey Elston', 'Emanuel Griffey', 'Vitia Elsip', 'Claudio Mimmack', 'Samaria Dryburgh', 'Derril Staten', 'Lindon Duddin', \"Neile O'Ruane\", 'Babbie Deeson', 'Ernie Scully', 'Ernie Scully', 'Demetris Ovid', 'Demetris Ovid', 'Patin Liles', 'Reggi Sapson', 'Marrissa Tammadge', 'Cynthie Curcher', 'Hedwiga End', 'Demetris Ovid', 'Emanuel Griffey', 'Jerad Godball', 'Blithe Phettis', 'Jere Adacot', 'Bernardina Sneaker', 'Jeffrey Elston', 'Gabriello Skpsey', 'Monique covino', 'Chandra Rennolds', 'Marrissa Tammadge', 'Etheline Gissing', 'Alexander McHale', 'Feodor Bidmead', 'Esmaria Raincin', 'Hedwiga End', 'Claudio Mimmack', 'Dianna Tuckwood', 'Demetris Ovid', 'Ninon Presdie', 'Vitia Elsip', 'Dianna Tuckwood', 'Cynthie Curcher', 'Jerad Godball', 'Aimee Naisby', 'Petronia Massel', 'Claudio Mimmack', 'Rudiger Roke', 'Dianna Tuckwood', 'Marrissa Tammadge', 'Teodorico Growy', 'Pearla Porte', 'Alexander McHale', 'Feodor Bidmead', 'Jacinta Knowller', 'Demetris Ovid', 'Babbie Deeson', 'Emanuel Griffey', 'Babbie Deeson', 'Brianne Mundee', 'Robinetta Darracott', 'Aimee Naisby', 'Rafe Romand', 'Aimee Naisby', 'Garrot Lisimore', 'Alanson Wimlett', 'Alanson Wimlett', 'Jerad Godball', 'Dianna Tuckwood', 'Bernardina Sneaker', 'Rafe Romand', 'Aimee Naisby', 'Gabriello Skpsey', 'Goldina McCrohon', 'Babbie Deeson', 'Teodorico Growy', 'Marrissa Tammadge', 'Etheline Gissing', 'Stanfield McAvin', 'Jacinta Knowller', 'Feodor Bidmead', 'Samaria Dryburgh', \"Neile O'Ruane\", 'Chandra Rennolds', 'Arri Whitehorne', \"Neile O'Ruane\", 'Hope Rides', 'Arri Whitehorne', 'Aimee Naisby', 'Patin Liles', 'Reggi Sapson', 'Stanfield McAvin', 'Ninon Presdie', 'Blithe Phettis', 'Alanson Wimlett', 'Rudiger Roke', 'Marrissa Tammadge', 'Bernardina Sneaker', 'Alexander McHale', 'Reggi Sapson', 'Jeffrey Elston', 'Brianne Mundee', 'Jere Adacot', 'Ninon Presdie', 'Teodorico Growy', 'Esmaria Raincin', 'Ninon Presdie', 'Alexander McHale', 'Petronia Massel', 'Monique covino', 'Samaria Dryburgh', 'Cynthie Curcher', 'Demetris Ovid', 'Rafe Romand', 'Shawnee Klimaszewski', 'Goldina McCrohon', 'Pearla Porte', 'Brianne Mundee', 'Feodor Bidmead', 'Derril Staten', 'Emanuel Griffey', 'Claudio Mimmack', 'Jobye Towhey', 'Patin Liles', 'Aimee Naisby', 'Stanfield McAvin', 'Ninon Presdie', 'Jere Adacot', 'Esmaria Raincin', 'Patin Liles', 'Petronia Massel', 'Feodor Bidmead', 'Garrot Lisimore', 'Aimee Naisby', 'Babbie Deeson', 'Rudiger Roke', 'Jere Adacot', 'Stanfield McAvin', 'Aimee Naisby', 'Robinetta Darracott', 'Hedwiga End', 'Vitia Elsip', 'Dev McDermott', 'Garrot Lisimore', 'Monique covino', 'Samaria Dryburgh', 'Arri Whitehorne', 'Jobye Towhey', 'Rafe Romand', 'Etheline Gissing', 'Samaria Dryburgh', 'Claudio Mimmack', 'Petronia Massel', 'Etheline Gissing', 'Gabriello Skpsey', 'Hope Rides', 'Garrot Lisimore', 'Derril Staten', 'Shawnee Klimaszewski', 'Alexander McHale', 'Hope Rides', 'Ninon Presdie', 'Lindon Duddin', 'Carl Shakesbye', 'Rafe Romand', 'Derril Staten', 'Etheline Gissing', 'Hope Rides', 'Rafe Romand', 'Samaria Dryburgh', 'Claudio Mimmack', 'Lindon Duddin', 'Etheline Gissing', 'Gabriello Skpsey', 'Bernardina Sneaker', 'Monique covino', 'Monique covino', 'Carl Shakesbye', 'Babbie Deeson', 'Lindon Duddin', 'Dianna Tuckwood', 'Etheline Gissing', \"Neile O'Ruane\", 'Carl Shakesbye', 'Jobye Towhey', 'Alexander McHale', 'Jacinta Knowller', 'Robinetta Darracott', 'Jerad Godball', 'Bernardina Sneaker', 'Reggi Sapson', 'Goldina McCrohon', 'Chandra Rennolds', 'Chandra Rennolds', 'Petronia Massel', 'Derril Staten', 'Jacinta Knowller', 'Ninon Presdie', 'Garrot Lisimore', 'Jeffrey Elston', 'Brianne Mundee', 'Robinetta Darracott', 'Ninon Presdie', 'Etheline Gissing', 'Althea MacGiolla', 'Jeffrey Elston', 'Babbie Deeson', 'Dianna Tuckwood', 'Ninon Presdie', 'Lindon Duddin', 'Blithe Phettis', 'Vitia Elsip', 'Robinetta Darracott', 'Derril Staten', 'Garrot Lisimore', 'Alexander McHale', 'Stanfield McAvin', 'Blithe Phettis', 'Brianne Mundee', 'Lindon Duddin', 'Carl Shakesbye', 'Blithe Phettis', 'Feodor Bidmead', 'Jerad Godball', 'Robinetta Darracott', 'Aimee Naisby', 'Claudio Mimmack', 'Jere Adacot', 'Esmaria Raincin', 'Derril Staten', 'Gabriello Skpsey', 'Carl Shakesbye', 'Dev McDermott', 'Feodor Bidmead', 'Esmaria Raincin', 'Ninon Presdie', 'Rafe Romand', 'Bernardina Sneaker', 'Samaria Dryburgh', 'Pearla Porte', 'Ernie Scully', 'Blithe Phettis', 'Patin Liles', 'Lindon Duddin', 'Vitia Elsip', 'Dev McDermott', 'Jobye Towhey', 'Alanson Wimlett', 'Hedwiga End', 'Claudio Mimmack', 'Petronia Massel', 'Feodor Bidmead', 'Goldina McCrohon', 'Petronia Massel', 'Shawnee Klimaszewski', 'Chandra Rennolds', 'Jobye Towhey', 'Arri Whitehorne', 'Lindon Duddin', 'Chandra Rennolds', 'Shawnee Klimaszewski', 'Reggi Sapson', 'Goldina McCrohon', 'Claudio Mimmack', 'Rafe Romand', 'Babbie Deeson', 'Hedwiga End', 'Jerad Godball', 'Hedwiga End', \"Neile O'Ruane\", 'Brianne Mundee', 'Jacinta Knowller', 'Babbie Deeson', 'Samaria Dryburgh', 'Patin Liles', 'Bernardina Sneaker', 'Gabriello Skpsey', 'Ernie Scully', 'Emanuel Griffey', 'Cynthie Curcher', 'Chandra Rennolds', 'Ernie Scully', 'Rudiger Roke', 'Rudiger Roke', 'Dianna Tuckwood', 'Ninon Presdie', 'Alexander McHale', 'Derril Staten', 'Pearla Porte', 'Garrot Lisimore', 'Reggi Sapson', 'Patin Liles', 'Emanuel Griffey', 'Blithe Phettis', 'Carl Shakesbye', 'Esmaria Raincin', 'Hedwiga End', 'Chandra Rennolds', 'Derril Staten', \"Neile O'Ruane\", 'Shawnee Klimaszewski', 'Hedwiga End', 'Hope Rides', 'Stanfield McAvin', 'Jacinta Knowller', 'Hedwiga End', 'Jere Adacot', 'Chandra Rennolds', 'Jacinta Knowller', 'Chandra Rennolds', 'Brianne Mundee', 'Garrot Lisimore', 'Emanuel Griffey', 'Brianne Mundee', 'Hedwiga End', 'Samaria Dryburgh', 'Ernie Scully', 'Hope Rides', 'Alanson Wimlett', 'Etheline Gissing', 'Goldina McCrohon', 'Arri Whitehorne', 'Marrissa Tammadge', 'Lindon Duddin', 'Ernie Scully', 'Monique covino', 'Carl Shakesbye', 'Shawnee Klimaszewski', 'Gabriello Skpsey', 'Claudio Mimmack', 'Ernie Scully', 'Lindon Duddin', 'Lindon Duddin', 'Teodorico Growy', 'Babbie Deeson', 'Jacinta Knowller', 'Cynthie Curcher', 'Stanfield McAvin', 'Jeffrey Elston', 'Rafe Romand', 'Ninon Presdie', 'Esmaria Raincin', 'Jerad Godball', 'Samaria Dryburgh', 'Vitia Elsip', 'Carl Shakesbye', 'Jacinta Knowller', 'Jobye Towhey', 'Bernardina Sneaker', 'Pearla Porte', 'Feodor Bidmead', 'Pearla Porte', 'Marrissa Tammadge', 'Aimee Naisby', 'Babbie Deeson', 'Althea MacGiolla', 'Esmaria Raincin', 'Ninon Presdie', 'Hedwiga End', 'Reggi Sapson', 'Samaria Dryburgh', 'Ninon Presdie', 'Rudiger Roke', 'Dianna Tuckwood', 'Arri Whitehorne', 'Etheline Gissing', 'Gabriello Skpsey', 'Brianne Mundee', 'Garrot Lisimore', 'Samaria Dryburgh', 'Chandra Rennolds', 'Stanfield McAvin', 'Stanfield McAvin', 'Lindon Duddin', 'Lindon Duddin', 'Emanuel Griffey', 'Patin Liles', 'Feodor Bidmead', 'Jobye Towhey', 'Hope Rides', 'Emanuel Griffey', 'Alexander McHale', 'Rudiger Roke', 'Stanfield McAvin', 'Lindon Duddin', 'Dianna Tuckwood', 'Derril Staten', 'Alanson Wimlett', 'Teodorico Growy', 'Jobye Towhey', 'Ernie Scully', 'Jacinta Knowller', 'Emanuel Griffey', 'Patin Liles', 'Blithe Phettis', 'Shawnee Klimaszewski', 'Jeffrey Elston', 'Althea MacGiolla', 'Jobye Towhey', 'Stanfield McAvin', 'Samaria Dryburgh', 'Demetris Ovid', 'Teodorico Growy', 'Stanfield McAvin', 'Vitia Elsip', 'Demetris Ovid', 'Jerad Godball', 'Etheline Gissing', 'Alexander McHale', 'Reggi Sapson', 'Babbie Deeson', 'Brianne Mundee', 'Demetris Ovid', 'Esmaria Raincin', 'Lindon Duddin', 'Althea MacGiolla', 'Althea MacGiolla', 'Alexander McHale', 'Arri Whitehorne', 'Petronia Massel', 'Robinetta Darracott', 'Arri Whitehorne', 'Alexander McHale', 'Ernie Scully', 'Lindon Duddin', 'Bernardina Sneaker', 'Reggi Sapson', 'Emanuel Griffey', 'Babbie Deeson', 'Shawnee Klimaszewski', 'Babbie Deeson', 'Robinetta Darracott', 'Jobye Towhey', 'Blithe Phettis', 'Dev McDermott', 'Alexander McHale', 'Brianne Mundee', 'Vitia Elsip', 'Alanson Wimlett', 'Pearla Porte', 'Gabriello Skpsey', 'Jerad Godball', 'Teodorico Growy', 'Alanson Wimlett', 'Ninon Presdie', 'Esmaria Raincin', 'Carl Shakesbye', 'Jerad Godball', 'Lindon Duddin', 'Carl Shakesbye', 'Esmaria Raincin', 'Chandra Rennolds', 'Ernie Scully', 'Dianna Tuckwood', 'Babbie Deeson', 'Stanfield McAvin', 'Monique covino', 'Claudio Mimmack', 'Marrissa Tammadge', 'Petronia Massel', \"Neile O'Ruane\", 'Emanuel Griffey', 'Samaria Dryburgh', 'Bernardina Sneaker', 'Hedwiga End', 'Babbie Deeson', 'Aimee Naisby', 'Cynthie Curcher', 'Dianna Tuckwood', 'Demetris Ovid', 'Rudiger Roke', 'Stanfield McAvin', \"Neile O'Ruane\", 'Ninon Presdie', 'Emanuel Griffey', 'Esmaria Raincin', 'Jerad Godball', 'Alanson Wimlett', 'Aimee Naisby', 'Jerad Godball', 'Feodor Bidmead', 'Ninon Presdie', 'Hedwiga End', 'Brianne Mundee', 'Dev McDermott', 'Lindon Duddin', 'Vitia Elsip', 'Babbie Deeson', 'Petronia Massel', 'Demetris Ovid', 'Jere Adacot', 'Vitia Elsip', 'Goldina McCrohon', 'Samaria Dryburgh', 'Pearla Porte', 'Garrot Lisimore', 'Jobye Towhey', 'Gabriello Skpsey', 'Etheline Gissing', 'Claudio Mimmack', 'Jobye Towhey', 'Brianne Mundee', 'Brianne Mundee', 'Robinetta Darracott', 'Claudio Mimmack', 'Bernardina Sneaker', 'Blithe Phettis', \"Neile O'Ruane\", 'Garrot Lisimore', 'Dev McDermott', 'Feodor Bidmead', 'Etheline Gissing', 'Babbie Deeson', 'Chandra Rennolds', 'Jobye Towhey', 'Demetris Ovid', 'Jobye Towhey', 'Rudiger Roke', 'Cynthie Curcher', 'Rudiger Roke', 'Robinetta Darracott', 'Jacinta Knowller', 'Aimee Naisby', 'Hope Rides', 'Gabriello Skpsey', 'Aimee Naisby', 'Brianne Mundee', 'Jacinta Knowller', 'Jerad Godball', 'Ernie Scully', 'Alexander McHale', 'Aimee Naisby', 'Carl Shakesbye', 'Esmaria Raincin', 'Rafe Romand', 'Brianne Mundee', 'Ernie Scully', 'Babbie Deeson', 'Blithe Phettis', 'Claudio Mimmack', \"Neile O'Ruane\", 'Carl Shakesbye', 'Claudio Mimmack', 'Goldina McCrohon', 'Ninon Presdie', 'Esmaria Raincin', 'Emanuel Griffey', 'Jerad Godball', 'Etheline Gissing', 'Jeffrey Elston', 'Feodor Bidmead', 'Lindon Duddin', 'Reggi Sapson', 'Brianne Mundee', 'Alexander McHale', 'Hedwiga End', 'Ernie Scully', 'Pearla Porte', 'Dev McDermott', 'Alanson Wimlett', 'Petronia Massel', 'Esmaria Raincin', 'Althea MacGiolla', 'Arri Whitehorne', 'Feodor Bidmead', 'Jerad Godball', 'Blithe Phettis', 'Lindon Duddin', 'Shawnee Klimaszewski', 'Jobye Towhey', 'Vitia Elsip', 'Ninon Presdie', 'Arri Whitehorne', 'Marrissa Tammadge', 'Robinetta Darracott', 'Teodorico Growy', 'Rudiger Roke', 'Babbie Deeson', 'Jere Adacot', 'Dev McDermott', 'Goldina McCrohon', 'Jerad Godball', 'Jere Adacot', 'Jeffrey Elston', 'Stanfield McAvin', 'Robinetta Darracott', 'Hedwiga End', 'Pearla Porte', 'Etheline Gissing', 'Alanson Wimlett', 'Blithe Phettis', 'Patin Liles', 'Chandra Rennolds', 'Lindon Duddin', 'Babbie Deeson', 'Teodorico Growy', 'Gabriello Skpsey', 'Rafe Romand', 'Monique covino', 'Marrissa Tammadge', 'Bernardina Sneaker', 'Althea MacGiolla', 'Pearla Porte', 'Petronia Massel', 'Bernardina Sneaker', 'Dianna Tuckwood', \"Neile O'Ruane\", 'Claudio Mimmack', 'Alexander McHale', 'Petronia Massel', 'Dianna Tuckwood', 'Derril Staten', 'Shawnee Klimaszewski', 'Jerad Godball', 'Hedwiga End', 'Jobye Towhey', 'Arri Whitehorne', 'Derril Staten', 'Dianna Tuckwood', 'Jerad Godball', 'Alanson Wimlett', 'Althea MacGiolla', 'Robinetta Darracott', 'Brianne Mundee', \"Neile O'Ruane\", 'Babbie Deeson', 'Demetris Ovid', 'Marrissa Tammadge', 'Arri Whitehorne', 'Stanfield McAvin', 'Garrot Lisimore', 'Shawnee Klimaszewski', 'Esmaria Raincin', 'Shawnee Klimaszewski', 'Chandra Rennolds', 'Alanson Wimlett', 'Jobye Towhey', 'Chandra Rennolds', 'Lindon Duddin', 'Rudiger Roke', 'Petronia Massel', 'Jeffrey Elston', 'Pearla Porte', 'Jere Adacot', 'Garrot Lisimore', 'Etheline Gissing', 'Jacinta Knowller', 'Vitia Elsip', 'Alanson Wimlett', 'Reggi Sapson', 'Pearla Porte', 'Esmaria Raincin', 'Demetris Ovid', 'Dev McDermott', 'Pearla Porte', 'Ernie Scully', 'Rudiger Roke', 'Etheline Gissing', 'Brianne Mundee', 'Gabriello Skpsey', 'Carl Shakesbye', 'Alexander McHale', 'Feodor Bidmead', 'Blithe Phettis', 'Hedwiga End', 'Etheline Gissing', 'Vitia Elsip', 'Jeffrey Elston', 'Jacinta Knowller', 'Monique covino', 'Derril Staten', 'Jeffrey Elston', 'Vitia Elsip', 'Rafe Romand', 'Carl Shakesbye', 'Pearla Porte', 'Rudiger Roke', 'Hope Rides', 'Jacinta Knowller', 'Chandra Rennolds', 'Emanuel Griffey', 'Cynthie Curcher', 'Babbie Deeson', \"Neile O'Ruane\", 'Claudio Mimmack', 'Jacinta Knowller', 'Babbie Deeson', 'Robinetta Darracott', 'Teodorico Growy', 'Derril Staten', 'Vitia Elsip', 'Jacinta Knowller', 'Hope Rides', 'Pearla Porte', 'Blithe Phettis', 'Arri Whitehorne', 'Hedwiga End', 'Jeffrey Elston', 'Rafe Romand', 'Carl Shakesbye', 'Robinetta Darracott', 'Gabriello Skpsey', 'Robinetta Darracott', 'Cynthie Curcher', 'Goldina McCrohon', 'Alanson Wimlett', 'Ninon Presdie', 'Jere Adacot', 'Garrot Lisimore', 'Goldina McCrohon', 'Esmaria Raincin', 'Ernie Scully', 'Samaria Dryburgh', 'Jeffrey Elston', 'Cynthie Curcher', 'Shawnee Klimaszewski', 'Hope Rides', 'Aimee Naisby', 'Cynthie Curcher', 'Babbie Deeson', 'Jeffrey Elston', 'Jeffrey Elston', 'Lindon Duddin', 'Marrissa Tammadge', 'Samaria Dryburgh', 'Monique covino', 'Jobye Towhey', 'Cynthie Curcher', 'Emanuel Griffey', 'Samaria Dryburgh', 'Reggi Sapson', 'Hedwiga End', 'Jere Adacot', 'Vitia Elsip', 'Babbie Deeson', 'Etheline Gissing', 'Rafe Romand', 'Garrot Lisimore', 'Shawnee Klimaszewski', 'Jere Adacot', 'Hope Rides', 'Jeffrey Elston', 'Blithe Phettis', 'Arri Whitehorne', 'Althea MacGiolla', 'Rudiger Roke', 'Lindon Duddin', 'Robinetta Darracott', 'Esmaria Raincin', 'Hedwiga End', 'Claudio Mimmack', 'Patin Liles', 'Gabriello Skpsey', 'Hope Rides', 'Chandra Rennolds', 'Jobye Towhey', 'Monique covino', 'Jacinta Knowller', 'Ninon Presdie', 'Hope Rides', 'Ninon Presdie', 'Pearla Porte', 'Cynthie Curcher', 'Patin Liles', 'Shawnee Klimaszewski']\n"
     ]
    }
   ],
   "source": [
    "name = []\n",
    "for items in contents:\n",
    "    lista = items.split(',')\n",
    "    first = lista[0]\n",
    "    name.append(first)\n",
    "print(name)"
   ]
  },
  {
   "cell_type": "markdown",
   "metadata": {},
   "source": [
    "Run the following code, and analyze the output"
   ]
  },
  {
   "cell_type": "code",
   "execution_count": 5,
   "metadata": {},
   "outputs": [
    {
     "name": "stdout",
     "output_type": "stream",
     "text": [
      "Counter({'B': 5, 'A': 3, 'C': 2})\n"
     ]
    }
   ],
   "source": [
    "from collections import Counter as count\n",
    "\n",
    "letters = ['B','B','A','B','C','A','B','B','A','C']\n",
    "\n",
    "letters_count = count(letters)\n",
    "\n",
    "print(letters_count)"
   ]
  },
  {
   "cell_type": "markdown",
   "metadata": {},
   "source": [
    "5. What was the output of the above code block? What did it accomplish?\n",
    "```\n",
    "It accomplish succesfully counting all reapeted items on the list and then put it on a diccionary with all items counted.\n",
    "```\n",
    "6. What is the format of the output? What data type does it most relate to?\n",
    "```\n",
    "\n",
    "```"
   ]
  },
  {
   "cell_type": "markdown",
   "metadata": {},
   "source": [
    "*Using the `Counter` from the `collections` library, and your list of customers create a graph to represent this data and write a written analysis*"
   ]
  },
  {
   "cell_type": "code",
   "execution_count": 7,
   "metadata": {},
   "outputs": [
    {
     "name": "stdout",
     "output_type": "stream",
     "text": [
      "Counter({'Babbie Deeson': 32, 'Lindon Duddin': 29, 'Ninon Presdie': 28, 'Claudio Mimmack': 28, 'Etheline Gissing': 27, 'Hedwiga End': 26, 'Esmaria Raincin': 26, 'Robinetta Darracott': 24, 'Alexander McHale': 24, 'Jerad Godball': 24, 'Stanfield McAvin': 23, 'Brianne Mundee': 23, 'Jobye Towhey': 22, 'Jacinta Knowller': 22, 'Feodor Bidmead': 22, 'Chandra Rennolds': 22, 'Blithe Phettis': 22, 'Samaria Dryburgh': 22, 'Demetris Ovid': 22, 'Carl Shakesbye': 21, 'Jeffrey Elston': 21, 'Gabriello Skpsey': 20, 'Vitia Elsip': 20, 'Pearla Porte': 20, 'Arri Whitehorne': 20, 'Ernie Scully': 20, 'Petronia Massel': 19, 'Rudiger Roke': 19, 'Emanuel Griffey': 19, 'Garrot Lisimore': 19, 'Derril Staten': 19, 'Hope Rides': 19, 'Alanson Wimlett': 18, 'Jere Adacot': 18, 'Bernardina Sneaker': 18, 'Dianna Tuckwood': 18, \"Neile O'Ruane\": 18, 'Shawnee Klimaszewski': 17, 'Cynthie Curcher': 17, 'Aimee Naisby': 17, 'Monique covino': 17, 'Reggi Sapson': 17, 'Rafe Romand': 16, 'Marrissa Tammadge': 16, 'Goldina McCrohon': 15, 'Teodorico Growy': 14, 'Patin Liles': 14, 'Dev McDermott': 13, 'Althea MacGiolla': 13})\n"
     ]
    }
   ],
   "source": [
    "name_count = count(name)\n",
    "\n",
    "print(name_count)\n"
   ]
  },
  {
   "cell_type": "markdown",
   "metadata": {},
   "source": []
  }
 ],
 "metadata": {
  "kernelspec": {
   "display_name": "Python 3",
   "language": "python",
   "name": "python3"
  },
  "language_info": {
   "codemirror_mode": {
    "name": "ipython",
    "version": 3
   },
   "file_extension": ".py",
   "mimetype": "text/x-python",
   "name": "python",
   "nbconvert_exporter": "python",
   "pygments_lexer": "ipython3",
   "version": "3.10.11"
  }
 },
 "nbformat": 4,
 "nbformat_minor": 2
}
