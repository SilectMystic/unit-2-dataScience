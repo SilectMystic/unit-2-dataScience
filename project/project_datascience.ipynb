{
 "cells": [
  {
   "cell_type": "code",
   "execution_count": 2,
   "metadata": {},
   "outputs": [
    {
     "data": {
      "text/html": [
       "<div>\n",
       "<style scoped>\n",
       "    .dataframe tbody tr th:only-of-type {\n",
       "        vertical-align: middle;\n",
       "    }\n",
       "\n",
       "    .dataframe tbody tr th {\n",
       "        vertical-align: top;\n",
       "    }\n",
       "\n",
       "    .dataframe thead th {\n",
       "        text-align: right;\n",
       "    }\n",
       "</style>\n",
       "<table border=\"1\" class=\"dataframe\">\n",
       "  <thead>\n",
       "    <tr style=\"text-align: right;\">\n",
       "      <th></th>\n",
       "      <th>User_ID</th>\n",
       "      <th>Session_ID</th>\n",
       "      <th>Device_ID</th>\n",
       "      <th>Video_ID</th>\n",
       "      <th>Duration_Watched (minutes)</th>\n",
       "      <th>Genre</th>\n",
       "      <th>Country</th>\n",
       "      <th>Age</th>\n",
       "      <th>Gender</th>\n",
       "      <th>Subscription_Status</th>\n",
       "      <th>Ratings</th>\n",
       "      <th>Languages</th>\n",
       "      <th>Device_Type</th>\n",
       "      <th>Location</th>\n",
       "      <th>Playback_Quality</th>\n",
       "      <th>Interaction_Events</th>\n",
       "    </tr>\n",
       "  </thead>\n",
       "  <tbody>\n",
       "    <tr>\n",
       "      <th>0</th>\n",
       "      <td>eb4f9229-74df-45f6-baac-cf19241b8b30</td>\n",
       "      <td>cb2142a7-0750-49ed-b8ac-a975fe1ff69a</td>\n",
       "      <td>232</td>\n",
       "      <td>11</td>\n",
       "      <td>90.044525</td>\n",
       "      <td>Sci-Fi</td>\n",
       "      <td>Sudan</td>\n",
       "      <td>56</td>\n",
       "      <td>Female</td>\n",
       "      <td>Premium</td>\n",
       "      <td>3</td>\n",
       "      <td>Spanish</td>\n",
       "      <td>Smartphone</td>\n",
       "      <td>Reedshire</td>\n",
       "      <td>4K</td>\n",
       "      <td>73</td>\n",
       "    </tr>\n",
       "    <tr>\n",
       "      <th>1</th>\n",
       "      <td>661d4b59-4328-410a-901c-1e3b4c40c334</td>\n",
       "      <td>3bc0a662-b353-4015-8b0c-55ceb510d13a</td>\n",
       "      <td>549</td>\n",
       "      <td>85</td>\n",
       "      <td>68.973479</td>\n",
       "      <td>Comedy</td>\n",
       "      <td>Cuba</td>\n",
       "      <td>52</td>\n",
       "      <td>Male</td>\n",
       "      <td>Premium</td>\n",
       "      <td>3</td>\n",
       "      <td>Chinese</td>\n",
       "      <td>Desktop</td>\n",
       "      <td>Stevenhaven</td>\n",
       "      <td>SD</td>\n",
       "      <td>22</td>\n",
       "    </tr>\n",
       "    <tr>\n",
       "      <th>2</th>\n",
       "      <td>dd3fe9e9-ea82-4891-ab93-8a47c80e3251</td>\n",
       "      <td>bd545b4a-9f54-4e87-b9f8-15ae20b44f22</td>\n",
       "      <td>844</td>\n",
       "      <td>50</td>\n",
       "      <td>42.511343</td>\n",
       "      <td>Comedy</td>\n",
       "      <td>Japan</td>\n",
       "      <td>14</td>\n",
       "      <td>Female</td>\n",
       "      <td>Premium</td>\n",
       "      <td>3</td>\n",
       "      <td>Spanish</td>\n",
       "      <td>Tablet</td>\n",
       "      <td>Vaughntown</td>\n",
       "      <td>HD</td>\n",
       "      <td>41</td>\n",
       "    </tr>\n",
       "    <tr>\n",
       "      <th>3</th>\n",
       "      <td>a1b3365b-1d00-4ddf-bc43-02fc9c10c680</td>\n",
       "      <td>0441086d-c59e-478d-a496-5c5b995ecfdb</td>\n",
       "      <td>201</td>\n",
       "      <td>38</td>\n",
       "      <td>53.316660</td>\n",
       "      <td>Documentary</td>\n",
       "      <td>Lao People's Democratic Republic</td>\n",
       "      <td>36</td>\n",
       "      <td>Male</td>\n",
       "      <td>Premium</td>\n",
       "      <td>2</td>\n",
       "      <td>Spanish</td>\n",
       "      <td>Laptop</td>\n",
       "      <td>East Raymondbury</td>\n",
       "      <td>SD</td>\n",
       "      <td>40</td>\n",
       "    </tr>\n",
       "    <tr>\n",
       "      <th>4</th>\n",
       "      <td>338d3f91-5f1c-4590-8803-324901826406</td>\n",
       "      <td>0295f01d-7f15-4799-856c-90c688697ef8</td>\n",
       "      <td>700</td>\n",
       "      <td>31</td>\n",
       "      <td>69.437786</td>\n",
       "      <td>Action</td>\n",
       "      <td>Bangladesh</td>\n",
       "      <td>31</td>\n",
       "      <td>Male</td>\n",
       "      <td>Premium</td>\n",
       "      <td>4</td>\n",
       "      <td>German</td>\n",
       "      <td>Laptop</td>\n",
       "      <td>Michaelchester</td>\n",
       "      <td>HD</td>\n",
       "      <td>41</td>\n",
       "    </tr>\n",
       "  </tbody>\n",
       "</table>\n",
       "</div>"
      ],
      "text/plain": [
       "                                User_ID                            Session_ID  \\\n",
       "0  eb4f9229-74df-45f6-baac-cf19241b8b30  cb2142a7-0750-49ed-b8ac-a975fe1ff69a   \n",
       "1  661d4b59-4328-410a-901c-1e3b4c40c334  3bc0a662-b353-4015-8b0c-55ceb510d13a   \n",
       "2  dd3fe9e9-ea82-4891-ab93-8a47c80e3251  bd545b4a-9f54-4e87-b9f8-15ae20b44f22   \n",
       "3  a1b3365b-1d00-4ddf-bc43-02fc9c10c680  0441086d-c59e-478d-a496-5c5b995ecfdb   \n",
       "4  338d3f91-5f1c-4590-8803-324901826406  0295f01d-7f15-4799-856c-90c688697ef8   \n",
       "\n",
       "   Device_ID  Video_ID  Duration_Watched (minutes)        Genre  \\\n",
       "0        232        11                   90.044525       Sci-Fi   \n",
       "1        549        85                   68.973479       Comedy   \n",
       "2        844        50                   42.511343       Comedy   \n",
       "3        201        38                   53.316660  Documentary   \n",
       "4        700        31                   69.437786       Action   \n",
       "\n",
       "                            Country  Age  Gender Subscription_Status  Ratings  \\\n",
       "0                             Sudan   56  Female             Premium        3   \n",
       "1                              Cuba   52    Male             Premium        3   \n",
       "2                             Japan   14  Female             Premium        3   \n",
       "3  Lao People's Democratic Republic   36    Male             Premium        2   \n",
       "4                        Bangladesh   31    Male             Premium        4   \n",
       "\n",
       "  Languages Device_Type          Location Playback_Quality  Interaction_Events  \n",
       "0   Spanish  Smartphone         Reedshire               4K                  73  \n",
       "1   Chinese     Desktop       Stevenhaven               SD                  22  \n",
       "2   Spanish      Tablet        Vaughntown               HD                  41  \n",
       "3   Spanish      Laptop  East Raymondbury               SD                  40  \n",
       "4    German      Laptop    Michaelchester               HD                  41  "
      ]
     },
     "execution_count": 2,
     "metadata": {},
     "output_type": "execute_result"
    }
   ],
   "source": [
    "import pandas as pd\n",
    "import matplotlib as mpl\n",
    "from collections import Counter as count\n",
    "\n",
    "df = pd.read_csv('streaming_viewership_data.csv')\n",
    "df['Age'] = pd.to_numeric(df['Age'])\n",
    "df.head()"
   ]
  },
  {
   "cell_type": "code",
   "execution_count": 12,
   "metadata": {},
   "outputs": [
    {
     "data": {
      "text/plain": [
       "<Axes: xlabel='Device_Type'>"
      ]
     },
     "execution_count": 12,
     "metadata": {},
     "output_type": "execute_result"
    },
    {
     "data": {
      "image/png": "[encoded data removed]",
      "text/plain": [
       "<Figure size 640x480 with 1 Axes>"
      ]
     },
     "metadata": {},
     "output_type": "display_data"
    }
   ],
   "source": [
    "uno = df.groupby(['Device_Type'])['Duration_Watched (minutes)'].mean()\n",
    "uno.plot(kind='bar')"
   ]
  },
  {
   "cell_type": "code",
   "execution_count": 13,
   "metadata": {},
   "outputs": [
    {
     "ename": "AttributeError",
     "evalue": "'function' object has no attribute 'plot'",
     "output_type": "error",
     "traceback": [
      "\u001b[1;31m---------------------------------------------------------------------------\u001b[0m",
      "\u001b[1;31mAttributeError\u001b[0m                            Traceback (most recent call last)",
      "\u001b[1;32mc:\\Users\\carlo\\Desktop\\VSCode\\unit-2-dataScience\\project\\project_datascience.ipynb Cell 3\u001b[0m line \u001b[0;36m5\n\u001b[0;32m      <a href='vscode-notebook-cell:/c%3A/Users/carlo/Desktop/VSCode/unit-2-dataScience/project/project_datascience.ipynb#W3sZmlsZQ%3D%3D?line=0'>1</a>\u001b[0m dos \u001b[39m=\u001b[39m df\u001b[39m.\u001b[39mgroupby([\u001b[39m'\u001b[39m\u001b[39mGender\u001b[39m\u001b[39m'\u001b[39m, \u001b[39m'\u001b[39m\u001b[39mGenre\u001b[39m\u001b[39m'\u001b[39m])[\u001b[39m'\u001b[39m\u001b[39mAge\u001b[39m\u001b[39m'\u001b[39m]\u001b[39m.\u001b[39mcount\n\u001b[0;32m      <a href='vscode-notebook-cell:/c%3A/Users/carlo/Desktop/VSCode/unit-2-dataScience/project/project_datascience.ipynb#W3sZmlsZQ%3D%3D?line=1'>2</a>\u001b[0m \u001b[39m# dos = df.groupby(['Country'])['Gender'].sum()\u001b[39;00m\n\u001b[0;32m      <a href='vscode-notebook-cell:/c%3A/Users/carlo/Desktop/VSCode/unit-2-dataScience/project/project_datascience.ipynb#W3sZmlsZQ%3D%3D?line=2'>3</a>\u001b[0m \u001b[39m# dos_count = count(df['Gender'])\u001b[39;00m\n\u001b[0;32m      <a href='vscode-notebook-cell:/c%3A/Users/carlo/Desktop/VSCode/unit-2-dataScience/project/project_datascience.ipynb#W3sZmlsZQ%3D%3D?line=3'>4</a>\u001b[0m \u001b[39m# print(dos)\u001b[39;00m\n\u001b[1;32m----> <a href='vscode-notebook-cell:/c%3A/Users/carlo/Desktop/VSCode/unit-2-dataScience/project/project_datascience.ipynb#W3sZmlsZQ%3D%3D?line=4'>5</a>\u001b[0m dos\u001b[39m.\u001b[39;49mplot(kind\u001b[39m=\u001b[39m\u001b[39m'\u001b[39m\u001b[39mbar\u001b[39m\u001b[39m'\u001b[39m)\n",
      "\u001b[1;31mAttributeError\u001b[0m: 'function' object has no attribute 'plot'"
     ]
    }
   ],
   "source": [
    "dos = df.groupby(['Gender', 'Genre'])['Age'].count\n",
    "# dos = df.groupby(['Country'])['Gender'].sum()\n",
    "# dos_count = count(df['Gender'])\n",
    "# print(dos)\n",
    "dos.plot(kind='bar')"
   ]
  }
 ],
 "metadata": {
  "kernelspec": {
   "display_name": "Python 3",
   "language": "python",
   "name": "python3"
  },
  "language_info": {
   "codemirror_mode": {
    "name": "ipython",
    "version": 3
   },
   "file_extension": ".py",
   "mimetype": "text/x-python",
   "name": "python",
   "nbconvert_exporter": "python",
   "pygments_lexer": "ipython3",
   "version": "3.10.11"
  }
 },
 "nbformat": 4,
 "nbformat_minor": 2
}
